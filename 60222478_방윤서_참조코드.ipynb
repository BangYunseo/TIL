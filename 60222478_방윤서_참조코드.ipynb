{
  "cells": [
    {
      "cell_type": "markdown",
      "metadata": {
        "id": "view-in-github",
        "colab_type": "text"
      },
      "source": [
        "<a href=\"https://colab.research.google.com/github/BangYunseo/TIL/blob/main/60222478_%EB%B0%A9%EC%9C%A4%EC%84%9C_%EC%B0%B8%EC%A1%B0%EC%BD%94%EB%93%9C.ipynb\" target=\"_parent\"><img src=\"https://colab.research.google.com/assets/colab-badge.svg\" alt=\"Open In Colab\"/></a>"
      ]
    },
    {
      "cell_type": "markdown",
      "source": [
        "### **3장 - 1. 평균 벡터와 공분산 행렬 예제 (3주차 강의자료 p.15)**"
      ],
      "metadata": {
        "id": "687590Qww5_m"
      }
    },
    {
      "cell_type": "code",
      "source": [
        "import numpy as np\n",
        "\n",
        "x = np.array([[5.1,3.5,1.4,0.2], [4.9,3.0,1.4,0.2], [4.7,3.2,1.3,0.2], [4.6,3.1,1.5,0.2], [5.0,3.6,1.4,0.2], [5.4,3.9,1.7,0.4], [4.6,3.4,1.4,0.3], [5.0,3.4,1.5,0.2]])\n",
        "print(x, '\\n\\n')\n",
        "\n",
        "x_mean = x.mean(axis=0)\n",
        "print(x_mean, '\\n\\n')\n",
        "\n",
        "x_var = np.cov(x.T, ddof=0)\n",
        "print(x_var)\n"
      ],
      "metadata": {
        "id": "CM-0_JZBwzfQ",
        "colab": {
          "base_uri": "https://localhost:8080/"
        },
        "outputId": "bb3fee83-b3f8-4595-d51a-0411e271d5af"
      },
      "execution_count": null,
      "outputs": [
        {
          "output_type": "stream",
          "name": "stdout",
          "text": [
            "[[5.1 3.5 1.4 0.2]\n",
            " [4.9 3.  1.4 0.2]\n",
            " [4.7 3.2 1.3 0.2]\n",
            " [4.6 3.1 1.5 0.2]\n",
            " [5.  3.6 1.4 0.2]\n",
            " [5.4 3.9 1.7 0.4]\n",
            " [4.6 3.4 1.4 0.3]\n",
            " [5.  3.4 1.5 0.2]] \n",
            "\n",
            "\n",
            "[4.9125 3.3875 1.45   0.2375] \n",
            "\n",
            "\n",
            "[[0.06609375 0.05265625 0.018125   0.00828125]\n",
            " [0.05265625 0.07359375 0.018125   0.01296875]\n",
            " [0.018125   0.018125   0.0125     0.005625  ]\n",
            " [0.00828125 0.01296875 0.005625   0.00484375]]\n"
          ]
        }
      ]
    },
    {
      "cell_type": "markdown",
      "source": [
        "### **3장 - 2. 자기정보와 엔트로피 예제 (3주차 강의자료 p.19)**"
      ],
      "metadata": {
        "id": "TRqVFX0ixvx1"
      }
    },
    {
      "cell_type": "code",
      "source": [
        "import math\n",
        "\n",
        "prob_yut = np.array([4/16, 6/16, 4/16, 1/16, 1/16])\n",
        "\n",
        "print(prob_yut, '\\n\\n')\n",
        "\n",
        "H_yut = 0;\n",
        "for i in prob_yut:\n",
        "  H_yut += - i*math.log2(i)\n",
        "\n",
        "print(H_yut, '\\n\\n')\n",
        "\n",
        "prob_dice = np.array([1/6, 1/6, 1/6, 1/6, 1/6, 1/6])\n",
        "\n",
        "H_dice = 0;\n",
        "for i in prob_dice:\n",
        "  H_dice += - i*math.log2(i)\n",
        "\n",
        "print(H_dice)"
      ],
      "metadata": {
        "id": "hbyyegqIx6lq"
      },
      "execution_count": null,
      "outputs": []
    },
    {
      "cell_type": "markdown",
      "metadata": {
        "id": "ESsnAJ3kw_Qi"
      },
      "source": [
        "### **4장 - 1. 예제 2.4 (4주차 강의자료 p. 22)**"
      ]
    },
    {
      "cell_type": "code",
      "execution_count": null,
      "metadata": {
        "id": "cWPz8iw6w3jv",
        "colab": {
          "base_uri": "https://localhost:8080/"
        },
        "outputId": "0c7a5a10-f999-4d72-f334-ddfde890cfc0"
      },
      "outputs": [
        {
          "output_type": "stream",
          "name": "stdout",
          "text": [
            "Determinant of Sigma=\n",
            " 4.0\n",
            "Inverse matrix of Sigma=\n",
            " [[0.5 0. ]\n",
            " [0.  0.5]]\n",
            "Coefficient 1 =\n",
            " [[-0.25 -0.  ]\n",
            " [-0.   -0.25]]\n",
            "Coefficient 2 =\n",
            " [1.5 0.5]\n",
            "Coefficient 3 =\n",
            " -5.030517161040053\n"
          ]
        }
      ],
      "source": [
        "import numpy as np\n",
        "\n",
        "mu = np.array([3, 1])\n",
        "\n",
        "Sigma = np.array([[2, 0],[0, 2]])\n",
        "\n",
        "det_Sigma = np.linalg.det(Sigma)\n",
        "print('Determinant of Sigma=\\n', det_Sigma)\n",
        "\n",
        "inv_Sigma = np.linalg.inv(Sigma)\n",
        "print('Inverse matrix of Sigma=\\n', inv_Sigma)\n",
        "\n",
        "coef1 = -1/2*inv_Sigma\n",
        "coef2 = mu.T @ inv_Sigma\n",
        "coef3 = -1/2*mu.T @ inv_Sigma @ mu - np.log(2*3.14) - 1/2*np.log(det_Sigma)\n",
        "\n",
        "print('Coefficient 1 =\\n', coef1)\n",
        "print('Coefficient 2 =\\n', coef2)\n",
        "print('Coefficient 3 =\\n', coef3)"
      ]
    },
    {
      "cell_type": "markdown",
      "metadata": {
        "id": "GTi05ojpzCH8"
      },
      "source": [
        "\n",
        "### **4장 - 2. 예제 2.5 (4주차 강의자료 p. 26)**"
      ]
    },
    {
      "cell_type": "code",
      "execution_count": null,
      "metadata": {
        "colab": {
          "base_uri": "https://localhost:8080/"
        },
        "id": "7Y5209VgzGCJ",
        "outputId": "46216981-c14e-46c2-e120-25c9b49eda55"
      },
      "outputs": [
        {
          "ename": "ModuleNotFoundError",
          "evalue": "No module named 'numpy'",
          "output_type": "error",
          "traceback": [
            "\u001b[1;31m---------------------------------------------------------------------------\u001b[0m",
            "\u001b[1;31mModuleNotFoundError\u001b[0m                       Traceback (most recent call last)",
            "Cell \u001b[1;32mIn[1], line 1\u001b[0m\n\u001b[1;32m----> 1\u001b[0m \u001b[38;5;28;01mimport\u001b[39;00m \u001b[38;5;21;01mnumpy\u001b[39;00m \u001b[38;5;28;01mas\u001b[39;00m \u001b[38;5;21;01mnp\u001b[39;00m\n\u001b[0;32m      3\u001b[0m omega_1 \u001b[38;5;241m=\u001b[39m np\u001b[38;5;241m.\u001b[39mtranspose(np\u001b[38;5;241m.\u001b[39marray([[\u001b[38;5;241m1\u001b[39m,\u001b[38;5;241m2\u001b[39m],[\u001b[38;5;241m3\u001b[39m,\u001b[38;5;241m1\u001b[39m],[\u001b[38;5;241m5\u001b[39m,\u001b[38;5;241m2\u001b[39m],[\u001b[38;5;241m3\u001b[39m,\u001b[38;5;241m3\u001b[39m]]))\n\u001b[0;32m      5\u001b[0m \u001b[38;5;28mprint\u001b[39m(omega_1)\n",
            "\u001b[1;31mModuleNotFoundError\u001b[0m: No module named 'numpy'"
          ]
        }
      ],
      "source": [
        "import numpy as np\n",
        "\n",
        "omega_1 = np.transpose(np.array([[1,2],[3,1],[5,2],[3,3]]))\n",
        "\n",
        "print(omega_1)\n",
        "\n",
        "omega1_mean = omega_1.mean(axis=1)\n",
        "omega1_var = np.cov(omega_1, ddof=0)\n",
        "\n",
        "omega_2 = np.transpose(np.array([[6,6],[8,5],[10,6],[8,7]]))\n",
        "omega2_mean = omega_2.mean(axis=1)\n",
        "omega2_var = np.cov(omega_2, ddof=0)\n",
        "\n",
        "print('mu_1=', omega1_mean)\n",
        "print('mu_2=', omega2_mean)\n",
        "\n",
        "print('Sigma_1=\\n', omega1_var)\n",
        "print('Sigma_2=\\n', omega2_var)\n",
        "\n",
        "inv_Sigma = np.linalg.inv(omega1_var)\n",
        "\n",
        "coef_1 = inv_Sigma @ (omega1_mean - omega2_mean)\n",
        "coef_2 = - 1/2*omega1_mean.T @ inv_Sigma @ omega1_mean + 1/2*omega2_mean.T @ inv_Sigma @ omega2_mean\n",
        "\n",
        "print('coef_1=', coef_1)\n",
        "print('coef_2=', coef_2)\n",
        "\n",
        "test_x = np.transpose(np.array([8,2]))\n",
        "\n",
        "prob_w1 = 0.5\n",
        "prob_w2 = 0.5\n",
        "\n",
        "g12 = coef_1 @ test_x + coef_2 + np.log(prob_w1) - np.log(prob_w2)\n",
        "\n",
        "print('g12(test_x) = ',g12)\n"
      ]
    },
    {
      "cell_type": "markdown",
      "metadata": {
        "id": "9idJEeBH2lMu"
      },
      "source": [
        "### **4장 - 3. 예제 2.6 (4주차 강의자료 p. 28)**"
      ]
    },
    {
      "cell_type": "code",
      "execution_count": null,
      "metadata": {
        "id": "CajqcflY2pAr"
      },
      "outputs": [],
      "source": [
        "import numpy as np\n",
        "import matplotlib.pyplot as plt\n",
        "\n",
        "omega_1 = np.transpose(np.array([[1,2],[3,1],[5,2],[3,3]]))#, [4,2], [2,4], [1,1], [2,2], [4,4]]))\n",
        "y_omega1 = np.array([0, 0, 0, 0])#, 0, 0, 0, 0, 0])\n",
        "omega1_mean = omega_1.mean(axis=1)\n",
        "omega1_var = np.cov(omega_1, ddof=0)\n",
        "\n",
        "inv_Sigma1 = np.linalg.inv(omega1_var)\n",
        "\n",
        "coef1_for_g1 = - 1/2 * inv_Sigma1\n",
        "coef2_for_g1 = omega1_mean.T @ inv_Sigma1\n",
        "coef3_for_g1 = - 1/2 * omega1_mean.T @ inv_Sigma1 @ omega1_mean - 1/2 * np.log(np.linalg.det(omega1_var))\n",
        "\n",
        "print('coef_1 = \\n', coef1_for_g1)\n",
        "print('coef_2 = \\n', coef2_for_g1)\n",
        "print('coef_3 = \\n', coef3_for_g1)\n",
        "\n",
        "\n",
        "omega_2 = np.transpose(np.array([[7,6],[8,4],[9,6],[8,8]]))\n",
        "y_omega2 = np.array([1, 1, 1, 1])\n",
        "omega2_mean = omega_2.mean(axis=1)\n",
        "omega2_var = np.cov(omega_2, ddof=0)\n",
        "\n",
        "x_train = (np.concatenate([omega_1.T, omega_2.T]))\n",
        "y_train = np.concatenate([y_omega1, y_omega2])\n",
        "\n",
        "plt.plot(x_train[y_train==0, 0], x_train[y_train==0, 1], 'ro', x_train[y_train==1, 0], x_train[y_train==1, 1], 'bs')\n",
        "plt.grid(True)\n",
        "plt.show()\n",
        "\n",
        "print('mu_1=', omega1_mean)\n",
        "print('mu_2=', omega2_mean)\n",
        "\n",
        "print('Sigma_1=\\n', omega1_var)\n",
        "print('Sigma_2=\\n', omega2_var)\n",
        "print('\\n')\n",
        "\n",
        "inv_Sigma2 = np.linalg.inv(omega2_var)\n",
        "\n",
        "coef1_for_g2 = - 1/2 * inv_Sigma2\n",
        "coef2_for_g2 = omega2_mean.T@inv_Sigma2\n",
        "coef3_for_g2 = - 1/2 * omega2_mean.T @ inv_Sigma2 @ omega2_mean - 1/2 * np.log(np.linalg.det(omega2_var))\n",
        "\n",
        "coef1_for_g12 = coef1_for_g1 - coef1_for_g2\n",
        "coef2_for_g12 = coef2_for_g1 - coef2_for_g2\n",
        "coef3_for_g12 = coef3_for_g1 - coef3_for_g2\n",
        "\n",
        "print('coef_1 = \\n', coef1_for_g12)\n",
        "print('coef_2 =', coef2_for_g12)\n",
        "print('coef_3 =', coef3_for_g12)\n",
        "\n",
        "coef3_for_g12_08_02 = coef3_for_g12 + np.log(0.8)-np.log(0.2)\n",
        "coef3_for_g12_05_05 = coef3_for_g12 + np.log(0.5)-np.log(0.5)\n",
        "coef3_for_g12_02_08 = coef3_for_g12 + np.log(0.2)-np.log(0.8)\n",
        "\n",
        "print('coef_3_08_02 =', 4*coef3_for_g12_08_02)\n",
        "print('coef_3_05_05 =', 4*coef3_for_g12_05_05)\n",
        "print('coef_3_02_08 =', 4*coef3_for_g12_02_08)\n"
      ]
    },
    {
      "cell_type": "markdown",
      "metadata": {
        "id": "wHY3CcLb6kQO"
      },
      "source": [
        "### **4장 - 4. 예제 2.7 (4주차 강의자료 p. 33)**"
      ]
    },
    {
      "cell_type": "code",
      "execution_count": null,
      "metadata": {
        "id": "oM8rdHmj6o0y"
      },
      "outputs": [],
      "source": [
        "import math\n",
        "\n",
        "omega_1 = np.transpose(np.array([[1,2],[3,1],[5,2],[3,3]]))\n",
        "omega1_mean = omega_1.mean(axis=1)\n",
        "\n",
        "omega_2 = np.transpose(np.array([[6,6],[8,5],[10,6],[8,7]]))\n",
        "omega2_mean = omega_2.mean(axis=1)\n",
        "\n",
        "inv_Sigma = np.linalg.inv(omega1_var)\n",
        "\n",
        "print(inv_Sigma)\n",
        "\n",
        "x = np.transpose(np.array([2, 8]))\n",
        "\n",
        "Mahala_dist1 = math.sqrt( (x - omega1_mean).T @ inv_Sigma @ (x - omega1_mean) )\n",
        "Mahala_dist2 = math.sqrt( (x - omega2_mean).T @ inv_Sigma @ (x - omega2_mean) )\n",
        "\n",
        "print(Mahala_dist1)\n",
        "print(Mahala_dist2)"
      ]
    },
    {
      "cell_type": "markdown",
      "source": [
        "### **5장 - 1. 예제 2.4 (4주차 강의자료 page 22)**"
      ],
      "metadata": {
        "id": "FtUlPXOLyBOk"
      }
    },
    {
      "cell_type": "code",
      "source": [
        "import numpy as np\n",
        "\n",
        "mu = np.array([3, 1])\n",
        "\n",
        "Sigma = np.array([[2, 0],[0, 2]])\n",
        "\n",
        "det_Sigma = np.linalg.det(Sigma)\n",
        "print('Determinant of Sigma=\\n', det_Sigma)\n",
        "\n",
        "inv_Sigma = np.linalg.inv(Sigma)\n",
        "print('Inverse matrix of Sigma=\\n', inv_Sigma)\n",
        "\n",
        "coef1 = -1/2*inv_Sigma\n",
        "coef2 = mu.T @ inv_Sigma\n",
        "coef3 = -1/2*mu.T @ inv_Sigma @ mu - np.log(2*3.14) - 1/2*np.log(det_Sigma)\n",
        "\n",
        "print('Coefficient 1 =\\n', coef1)\n",
        "print('Coefficient 2 =\\n', coef2)\n",
        "print('Coefficient 3 =\\n', coef3)"
      ],
      "metadata": {
        "id": "XQHi8zvAyAhA",
        "colab": {
          "base_uri": "https://localhost:8080/"
        },
        "outputId": "c8159221-78a9-4e32-dfc5-f381853b0901"
      },
      "execution_count": null,
      "outputs": [
        {
          "output_type": "stream",
          "name": "stdout",
          "text": [
            "Determinant of Sigma=\n",
            " 4.0\n",
            "Inverse matrix of Sigma=\n",
            " [[0.5 0. ]\n",
            " [0.  0.5]]\n",
            "Coefficient 1 =\n",
            " [[-0.25 -0.  ]\n",
            " [-0.   -0.25]]\n",
            "Coefficient 2 =\n",
            " [1.5 0.5]\n",
            "Coefficient 3 =\n",
            " -5.030517161040053\n"
          ]
        }
      ]
    },
    {
      "cell_type": "markdown",
      "source": [
        "\n",
        "### **5장 - 2. 예제 2.5 (4주차 강의자료 page 26)**"
      ],
      "metadata": {
        "id": "JV0enOJjyltL"
      }
    },
    {
      "cell_type": "code",
      "source": [
        "import numpy as np\n",
        "\n",
        "omega_1 = np.transpose(np.array([[1,2],[3,1],[5,2],[3,3]]))\n",
        "\n",
        "print(omega_1)\n",
        "\n",
        "omega1_mean = omega_1.mean(axis=1)\n",
        "omega1_var = np.cov(omega_1, ddof=0)\n",
        "\n",
        "omega_2 = np.transpose(np.array([[6,6],[8,5],[10,6],[8,7]]))\n",
        "omega2_mean = omega_2.mean(axis=1)\n",
        "omega2_var = np.cov(omega_2, ddof=0)\n",
        "\n",
        "print('mu_1=', omega1_mean)\n",
        "print('mu_2=', omega2_mean)\n",
        "\n",
        "print('Sigma_1=\\n', omega1_var)\n",
        "print('Sigma_2=\\n', omega2_var)\n",
        "\n",
        "inv_Sigma = np.linalg.inv(omega1_var)\n",
        "\n",
        "coef_1 = inv_Sigma @ (omega1_mean - omega2_mean)\n",
        "coef_2 = - 1/2*omega1_mean.T @ inv_Sigma @ omega1_mean + 1/2*omega2_mean.T @ inv_Sigma @ omega2_mean\n",
        "\n",
        "print('coef_1=', coef_1)\n",
        "print('coef_2=', coef_2)\n",
        "\n",
        "test_x = np.transpose(np.array([8,2]))\n",
        "\n",
        "prob_w1 = 0.5\n",
        "prob_w2 = 0.5\n",
        "\n",
        "g12 = coef_1 @ test_x + coef_2 + np.log(prob_w1) - np.log(prob_w2)\n",
        "\n",
        "print('g12(test_x) = ',g12)"
      ],
      "metadata": {
        "id": "vTgqbPNeylO4"
      },
      "execution_count": null,
      "outputs": []
    },
    {
      "cell_type": "markdown",
      "source": [
        "### **5장 - 3. 예제 2.6 (4주차 강의자료 page 28)**"
      ],
      "metadata": {
        "id": "c4QROA9Byrbe"
      }
    },
    {
      "cell_type": "code",
      "source": [
        "import numpy as np\n",
        "import matplotlib.pyplot as plt\n",
        "\n",
        "omega_1 = np.transpose(np.array([[1,2],[3,1],[5,2],[3,3]]))#, [4,2], [2,4], [1,1], [2,2], [4,4]]))\n",
        "y_omega1 = np.array([0, 0, 0, 0])#, 0, 0, 0, 0, 0])\n",
        "omega1_mean = omega_1.mean(axis=1)\n",
        "omega1_var = np.cov(omega_1, ddof=0)\n",
        "\n",
        "inv_Sigma1 = np.linalg.inv(omega1_var)\n",
        "\n",
        "coef1_for_g1 = - 1/2 * inv_Sigma1\n",
        "coef2_for_g1 = omega1_mean.T @ inv_Sigma1\n",
        "coef3_for_g1 = - 1/2 * omega1_mean.T @ inv_Sigma1 @ omega1_mean - 1/2 * np.log(np.linalg.det(omega1_var))\n",
        "\n",
        "print('coef_1 = \\n', coef1_for_g1)\n",
        "print('coef_2 = \\n', coef2_for_g1)\n",
        "print('coef_3 = \\n', coef3_for_g1)\n",
        "\n",
        "\n",
        "omega_2 = np.transpose(np.array([[7,6],[8,4],[9,6],[8,8]]))\n",
        "y_omega2 = np.array([1, 1, 1, 1])\n",
        "omega2_mean = omega_2.mean(axis=1)\n",
        "omega2_var = np.cov(omega_2, ddof=0)\n",
        "\n",
        "x_train = (np.concatenate([omega_1.T, omega_2.T]))\n",
        "y_train = np.concatenate([y_omega1, y_omega2])\n",
        "\n",
        "plt.plot(x_train[y_train==0, 0], x_train[y_train==0, 1], 'ro', x_train[y_train==1, 0], x_train[y_train==1, 1], 'bs')\n",
        "plt.grid(True)\n",
        "plt.show()\n",
        "\n",
        "print('mu_1=', omega1_mean)\n",
        "print('mu_2=', omega2_mean)\n",
        "\n",
        "print('Sigma_1=\\n', omega1_var)\n",
        "print('Sigma_2=\\n', omega2_var)\n",
        "print('\\n')\n",
        "\n",
        "inv_Sigma2 = np.linalg.inv(omega2_var)\n",
        "\n",
        "coef1_for_g2 = - 1/2 * inv_Sigma2\n",
        "coef2_for_g2 = omega2_mean.T@inv_Sigma2\n",
        "coef3_for_g2 = - 1/2 * omega2_mean.T @ inv_Sigma2 @ omega2_mean - 1/2 * np.log(np.linalg.det(omega2_var))\n",
        "\n",
        "coef1_for_g12 = coef1_for_g1 - coef1_for_g2\n",
        "coef2_for_g12 = coef2_for_g1 - coef2_for_g2\n",
        "coef3_for_g12 = coef3_for_g1 - coef3_for_g2\n",
        "\n",
        "print('coef_1 = \\n', coef1_for_g12)\n",
        "print('coef_2 =', coef2_for_g12)\n",
        "print('coef_3 =', coef3_for_g12)\n",
        "\n",
        "coef3_for_g12_08_02 = coef3_for_g12 + np.log(0.8)-np.log(0.2)\n",
        "coef3_for_g12_05_05 = coef3_for_g12 + np.log(0.5)-np.log(0.5)\n",
        "coef3_for_g12_02_08 = coef3_for_g12 + np.log(0.2)-np.log(0.8)\n",
        "\n",
        "print('coef_3_08_02 =', 4*coef3_for_g12_08_02)\n",
        "print('coef_3_05_05 =', 4*coef3_for_g12_05_05)\n",
        "print('coef_3_02_08 =', 4*coef3_for_g12_02_08)"
      ],
      "metadata": {
        "colab": {
          "base_uri": "https://localhost:8080/",
          "height": 889
        },
        "id": "Qs2NX7ofyq7Q",
        "outputId": "30e4412c-ce46-4f15-bea6-70a4b0ed8d2c"
      },
      "execution_count": null,
      "outputs": [
        {
          "output_type": "stream",
          "name": "stdout",
          "text": [
            "coef_1 = \n",
            " [[-0.25 -0.  ]\n",
            " [-0.   -1.  ]]\n",
            "coef_2 = \n",
            " [1.5 4. ]\n",
            "coef_3 = \n",
            " -6.25\n"
          ]
        },
        {
          "output_type": "display_data",
          "data": {
            "text/plain": [
              "<Figure size 640x480 with 1 Axes>"
            ],
            "image/png": "[encoded data removed]"
          },
          "metadata": {}
        },
        {
          "output_type": "stream",
          "name": "stdout",
          "text": [
            "mu_1= [3. 2.]\n",
            "mu_2= [8. 6.]\n",
            "Sigma_1=\n",
            " [[2.  0. ]\n",
            " [0.  0.5]]\n",
            "Sigma_2=\n",
            " [[0.5 0. ]\n",
            " [0.  2. ]]\n",
            "\n",
            "\n",
            "coef_1 = \n",
            " [[ 0.75  0.  ]\n",
            " [ 0.   -0.75]]\n",
            "coef_2 = [-14.5   1. ]\n",
            "coef_3 = 66.75\n",
            "coef_3_08_02 = 272.5451774444796\n",
            "coef_3_05_05 = 267.0\n",
            "coef_3_02_08 = 261.4548225555204\n"
          ]
        }
      ]
    },
    {
      "cell_type": "markdown",
      "source": [
        "### **5장 - 4. 예제 2.7 (4주차 강의자료 page 33)**"
      ],
      "metadata": {
        "id": "wiImFl9ty3_d"
      }
    },
    {
      "cell_type": "code",
      "source": [
        "import math\n",
        "import numpy as np\n",
        "\n",
        "omega_1 = np.transpose(np.array([[1,2],[3,1],[5,2],[3,3]]))\n",
        "omega1_mean = omega_1.mean(axis=1)\n",
        "omega1_var = np.cov(omega_1, ddof=0)\n",
        "\n",
        "\n",
        "omega_2 = np.transpose(np.array([[6,6],[8,5],[10,6],[8,7]]))\n",
        "omega2_mean = omega_2.mean(axis=1)\n",
        "omega2_var = np.cov(omega_2, ddof=0)\n",
        "\n",
        "\n",
        "inv_Sigma = np.linalg.inv(omega1_var)\n",
        "\n",
        "print(inv_Sigma)\n",
        "\n",
        "x = np.transpose(np.array([8, 2]))\n",
        "\n",
        "Mahala_dist1 = math.sqrt( (x - omega1_mean).T @ inv_Sigma @ (x - omega1_mean) )\n",
        "Mahala_dist2 = math.sqrt( (x - omega2_mean).T @ inv_Sigma @ (x - omega2_mean) )\n",
        "\n",
        "print('Mahala distance from mean of omega 1 =',Mahala_dist1)\n",
        "print('Mahala distance from mean of omega 2 =',Mahala_dist2)\n",
        "\n",
        "Euclidean_dist1 = np.linalg.norm(x - omega1_mean)\n",
        "Euclidean_dist2 = np.linalg.norm(x - omega2_mean)\n",
        "\n",
        "print('Euclidean distance from mean of omega 1 =',Euclidean_dist1)\n",
        "print('Euclidean distance from mean of omega 2 =',Euclidean_dist2)"
      ],
      "metadata": {
        "colab": {
          "base_uri": "https://localhost:8080/"
        },
        "id": "w0XdyCecy93u",
        "outputId": "cab35aca-97da-4547-c755-75ff557fe726"
      },
      "execution_count": null,
      "outputs": [
        {
          "output_type": "stream",
          "name": "stdout",
          "text": [
            "[[0.5 0. ]\n",
            " [0.  2. ]]\n",
            "Mahala distance from mean of omega 1 = 3.5355339059327378\n",
            "Mahala distance from mean of omega 2 = 5.656854249492381\n",
            "Euclidean distance from mean of omega 1 = 5.0\n",
            "Euclidean distance from mean of omega 2 = 4.0\n"
          ]
        }
      ]
    },
    {
      "cell_type": "markdown",
      "source": [
        "### **6장 - 1. 퍼셉트론의 동작 (p. 11)**"
      ],
      "metadata": {
        "id": "_Anj4dTD0TL-"
      }
    },
    {
      "cell_type": "code",
      "source": [
        "import numpy as np\n",
        "from sklearn.linear_model import Perceptron\n",
        "import matplotlib.pyplot as plt\n",
        "\n",
        "x_train = np.array([[0, 0], [1, 0], [0, 1], [1, 1]])\n",
        "y_train = np.array([0, 1, 1, 1])\n",
        "\n",
        "plt.plot(x_train[y_train==0, 0], x_train[y_train==0, 1], 'ro', x_train[y_train==1, 0], x_train[y_train==1, 1], 'bs')\n",
        "plt.grid(True)\n",
        "plt.show()\n",
        "\n",
        "ppn = Perceptron()\n",
        "ppn.fit(x_train, y_train)\n",
        "\n",
        "x_test = np.array([[0.5, 0.5], [0.2, 0.2]])\n",
        "\n",
        "y_pred = ppn.predict(x_test)\n",
        "\n",
        "print('Classification: ', y_pred)\n",
        "\n",
        "plt.plot(x_train[y_train==0, 0], x_train[y_train==0, 1], 'ro', x_train[y_train==1, 0], x_train[y_train==1, 1], 'bs')\n",
        "plt.plot(x_test[y_pred==0, 0], x_test[y_pred==0, 1], 'ro', x_test[y_pred==1, 0], x_test[y_pred==1, 1], 'bs')\n",
        "plt.grid(True)\n",
        "plt.show()"
      ],
      "metadata": {
        "id": "iI0Vx_jU0W2_"
      },
      "execution_count": null,
      "outputs": []
    },
    {
      "cell_type": "markdown",
      "source": [
        "### **6장 - 2. 퍼셉트론 분류기 문제 (p.34)**"
      ],
      "metadata": {
        "id": "RXWA_iYy0jrf"
      }
    },
    {
      "cell_type": "code",
      "source": [
        "import numpy as np\n",
        "from sklearn.linear_model import Perceptron\n",
        "import matplotlib.pyplot as plt\n",
        "\n",
        "omega_1 = (np.array([[1,2],[3,1],[5,2],[3,3]]))\n",
        "y_omega1 = np.array([0, 0, 0, 0])\n",
        "\n",
        "omega_2 = (np.array([[6,6],[8,5],[10,6],[8,7]]))\n",
        "y_omega2 = np.array([1, 1, 1, 1])\n",
        "\n",
        "x_train = (np.concatenate([omega_1, omega_2]))\n",
        "y_train = np.concatenate([y_omega1, y_omega2])\n",
        "\n",
        "print(omega_1)\n",
        "print(omega_2)\n",
        "print(x_train)\n",
        "\n",
        "plt.plot(x_train[y_train==0, 0], x_train[y_train==0, 1], 'ro', x_train[y_train==1, 0], x_train[y_train==1, 1], 'bs')\n",
        "plt.grid(True)\n",
        "plt.show()\n",
        "\n",
        "ppn = Perceptron()\n",
        "ppn.fit(x_train, y_train)\n",
        "\n",
        "x_test = np.array([[6,4]])\n",
        "\n",
        "y_pred = ppn.predict(x_test)\n",
        "\n",
        "print('Prediction for perceptron =', y_pred)\n",
        "\n",
        "plt.plot(x_train[y_train==0, 0], x_train[y_train==0, 1], 'ro', x_train[y_train==1, 0], x_train[y_train==1, 1], 'bs')\n",
        "plt.plot(x_test[y_pred==0, 0], x_test[y_pred==0, 1], 'ro', x_test[y_pred==1, 0], x_test[y_pred==1, 1], 'bs')\n",
        "plt.grid(True)\n",
        "plt.show()"
      ],
      "metadata": {
        "colab": {
          "base_uri": "https://localhost:8080/",
          "height": 1000
        },
        "id": "uLY7ssIz0yAQ",
        "outputId": "cacf2ea8-7fc2-45c0-c360-593fb3d3ec9c"
      },
      "execution_count": 6,
      "outputs": [
        {
          "output_type": "stream",
          "name": "stdout",
          "text": [
            "[[1 2]\n",
            " [3 1]\n",
            " [5 2]\n",
            " [3 3]]\n",
            "[[ 6  6]\n",
            " [ 8  5]\n",
            " [10  6]\n",
            " [ 8  7]]\n",
            "[[ 1  2]\n",
            " [ 3  1]\n",
            " [ 5  2]\n",
            " [ 3  3]\n",
            " [ 6  6]\n",
            " [ 8  5]\n",
            " [10  6]\n",
            " [ 8  7]]\n"
          ]
        },
        {
          "output_type": "display_data",
          "data": {
            "text/plain": [
              "<Figure size 640x480 with 1 Axes>"
            ],
            "image/png": "[encoded data removed]"
          },
          "metadata": {}
        },
        {
          "output_type": "stream",
          "name": "stdout",
          "text": [
            "Prediction for perceptron = [0]\n"
          ]
        },
        {
          "output_type": "display_data",
          "data": {
            "text/plain": [
              "<Figure size 640x480 with 1 Axes>"
            ],
            "image/png": "[encoded data removed]"
          },
          "metadata": {}
        }
      ]
    },
    {
      "cell_type": "markdown",
      "source": [
        "### **7장 - 1. 선형 SVM: 두개의 샘플**"
      ],
      "metadata": {
        "id": "O8aZAHCl1D5I"
      }
    },
    {
      "cell_type": "code",
      "source": [
        "import numpy as np\n",
        "from sklearn import svm\n",
        "import matplotlib.pyplot as plt\n",
        "\n",
        "x_train = np.array([[2, 3], [4, 1]])\n",
        "y_train = np.array([1, -1])\n",
        "\n",
        "plt.title(\"Training data\")\n",
        "plt.plot(x_train[y_train==1, 0], x_train[y_train==1, 1], 'ro', x_train[y_train==-1, 0], x_train[y_train==-1, 1], 'bs')\n",
        "plt.grid(True)\n",
        "plt.axis([-1, 10, -1, 10])\n",
        "plt.show()\n",
        "\n",
        "svm_clf = svm.SVC(kernel='linear')\n",
        "svm_clf.fit(x_train, y_train)\n",
        "\n",
        "\n",
        "# Create grid to evaluate model\n",
        "xx = np.linspace(-1, 10, 30)\n",
        "yy = np.linspace(-1, 10, 30)\n",
        "YY, XX = np.meshgrid(yy, xx)\n",
        "xy = np.vstack([XX.ravel(), YY.ravel()]).T\n",
        "Z = svm_clf.decision_function(xy).reshape(XX.shape)\n",
        "\n",
        "plt.title(\"Training data w/ decision boundary\")\n",
        "plt.plot(x_train[y_train==1, 0], x_train[y_train==1, 1], 'ro', x_train[y_train==-1, 0], x_train[y_train==-1, 1], 'bs')\n",
        "plt.contour(XX, YY, Z, levels=[-1, 0, 1])\n",
        "plt.grid(True)\n",
        "plt.axis([-1, 10, -1, 10])\n",
        "plt.show()\n",
        "\n",
        "x_test = np.array([[0, 0], [3, 1]])\n",
        "y_pred = svm_clf.predict(x_test)\n",
        "\n",
        "print('Results: ',y_pred)\n",
        "\n",
        "plt.title(\"Test data w/ decision boundary\")\n",
        "plt.plot(x_train[y_train==1, 0], x_train[y_train==1, 1], 'ro', x_train[y_train==-1, 0], x_train[y_train==-1, 1], 'bs')\n",
        "# plt.contour(XX, YY, Z, levels=[-1, 0, 1])\n",
        "plt.plot(x_test[y_pred==1, 0], x_test[y_pred==1, 1], 'ro', x_test[y_pred==-1, 0], x_test[y_pred==-1, 1], 'bs')\n",
        "plt.grid(True)\n",
        "plt.axis([-1, 10, -1, 10])\n",
        "plt.show()\n",
        "\n",
        "# plot_decision_function(x_train, y_train, x_test, y_test, svm_clf)"
      ],
      "metadata": {
        "id": "DPhDgIp51S5e"
      },
      "execution_count": null,
      "outputs": []
    },
    {
      "cell_type": "markdown",
      "source": [
        "### **7장 - 2. 선형 SVM: 3개의 샘플**"
      ],
      "metadata": {
        "id": "chbz36Cj1W6J"
      }
    },
    {
      "cell_type": "code",
      "source": [
        "import numpy as np\n",
        "from sklearn import svm\n",
        "import matplotlib.pyplot as plt\n",
        "\n",
        "x_train = np.array([[2, 3], [4, 1], [5, 1]])\n",
        "y_train = np.array([1, -1, -1])\n",
        "\n",
        "plt.title(\"Training data\")\n",
        "plt.plot(x_train[y_train==1, 0], x_train[y_train==1, 1], 'ro', x_train[y_train==-1, 0], x_train[y_train==-1, 1], 'bs')\n",
        "plt.grid(True)\n",
        "plt.axis([-1, 10, -1, 10])\n",
        "plt.show()\n",
        "\n",
        "svm_clf = svm.SVC(kernel='linear')\n",
        "svm_clf.fit(x_train, y_train)\n",
        "\n",
        "# Create grid to evaluate model\n",
        "xx = np.linspace(-1, 10, 30)\n",
        "yy = np.linspace(-1, 10, 30)\n",
        "YY, XX = np.meshgrid(yy, xx)\n",
        "xy = np.vstack([XX.ravel(), YY.ravel()]).T\n",
        "Z = svm_clf.decision_function(xy).reshape(XX.shape)\n",
        "\n",
        "plt.title(\"Training data w/ decision boundary\")\n",
        "plt.plot(x_train[y_train==1, 0], x_train[y_train==1, 1], 'ro', x_train[y_train==-1, 0], x_train[y_train==-1, 1], 'bs')\n",
        "plt.contour(XX, YY, Z, levels=[-1, 0, 1])\n",
        "plt.grid(True)\n",
        "plt.axis([-1, 10, -1, 10])\n",
        "plt.show()\n",
        "\n",
        "x_test = np.array([[0, 0], [3, 1]])\n",
        "y_pred = svm_clf.predict(x_test)\n",
        "\n",
        "print(y_pred)\n",
        "\n",
        "plt.title(\"Test data w/ decision boundary\")\n",
        "plt.plot(x_train[y_train==1, 0], x_train[y_train==1, 1], 'ro', x_train[y_train==-1, 0], x_train[y_train==-1, 1], 'bs')\n",
        "plt.contour(XX, YY, Z, levels=[-1, 0, 1])\n",
        "plt.plot(x_test[y_pred==1, 0], x_test[y_pred==1, 1], 'ro', x_test[y_pred==-1, 0], x_test[y_pred==-1, 1], 'bs')\n",
        "plt.grid(True)\n",
        "plt.axis([-1, 10, -1, 10])\n",
        "plt.show()\n",
        "\n",
        "# plot_decision_function(x_train, y_train, x_test, y_test, svm_clf)"
      ],
      "metadata": {
        "id": "GE7voolk1enG"
      },
      "execution_count": null,
      "outputs": []
    },
    {
      "cell_type": "markdown",
      "source": [
        "### **7장 - 3. 비선형 SVM: 3개의 샘플**"
      ],
      "metadata": {
        "id": "ZLx2-kit1hBy"
      }
    },
    {
      "cell_type": "code",
      "source": [
        "import numpy as np\n",
        "from sklearn import svm\n",
        "import matplotlib.pyplot as plt\n",
        "\n",
        "x_train = np.array([[2, 3], [5, 1], [4, 1]])\n",
        "y_train = np.array([1, 1, -1])\n",
        "\n",
        "plt.title(\"Training data\")\n",
        "plt.plot(x_train[y_train==1, 0], x_train[y_train==1, 1], 'ro', x_train[y_train==-1, 0], x_train[y_train==-1, 1], 'bs')\n",
        "plt.grid(True)\n",
        "plt.axis([-1, 10, -1, 10])\n",
        "plt.show()\n",
        "\n",
        "svm_clf = svm.SVC(kernel='poly') # {'linear', 'poly', 'rbf', 'sigmoid', 'precomputed'}\n",
        "svm_clf.fit(x_train, y_train)\n",
        "\n",
        "# Create grid to evaluate model\n",
        "xx = np.linspace(-1, 10, 30)\n",
        "yy = np.linspace(-1, 10, 30)\n",
        "YY, XX = np.meshgrid(yy, xx)\n",
        "xy = np.vstack([XX.ravel(), YY.ravel()]).T\n",
        "Z = svm_clf.decision_function(xy).reshape(XX.shape)\n",
        "\n",
        "plt.title(\"Training data w/ decision boundary\")\n",
        "plt.plot(x_train[y_train==1, 0], x_train[y_train==1, 1], 'ro', x_train[y_train==-1, 0], x_train[y_train==-1, 1], 'bs')\n",
        "plt.contour(XX, YY, Z, levels=[-1, 0, 1])\n",
        "plt.grid(True)\n",
        "plt.axis([-1, 10, -1, 10])\n",
        "plt.show()\n",
        "\n",
        "x_test = np.array([[0, 0], [3, 1]])\n",
        "y_pred = svm_clf.predict(x_test)\n",
        "\n",
        "plt.title(\"Test data w/ decision boundary\")\n",
        "plt.plot(x_train[y_train==1, 0], x_train[y_train==1, 1], 'ro', x_train[y_train==-1, 0], x_train[y_train==-1, 1], 'bs')\n",
        "plt.contour(XX, YY, Z, levels=[-1, 0, 1])\n",
        "plt.plot(x_test[y_pred==1, 0], x_test[y_pred==1, 1], 'ro', x_test[y_pred==-1, 0], x_test[y_pred==-1, 1], 'bs')\n",
        "plt.grid(True)\n",
        "plt.axis([-1, 10, -1, 10])\n",
        "plt.show()\n",
        "\n",
        "# plot_decision_function(x_train, y_train, x_test, y_test, svm_clf)"
      ],
      "metadata": {
        "id": "CHMeImSe1oFs"
      },
      "execution_count": null,
      "outputs": []
    },
    {
      "cell_type": "markdown",
      "source": [
        "### **1. 예제 답지(homework 1)**"
      ],
      "metadata": {
        "id": "2hQos94s1-Yp"
      }
    },
    {
      "cell_type": "code",
      "source": [
        "import numpy as np\n",
        "import matplotlib.pyplot as plt\n",
        "\n",
        "omega_1 = np.transpose(np.array([[180,78],[167,72],[170,66],[178,80]]))\n",
        "y_omega1 = np.array([0, 0, 0, 0])#, 0, 0, 0, 0, 0])\n",
        "omega1_mean = omega_1.mean(axis=1)\n",
        "omega1_var = np.cov(omega_1, ddof=0)\n",
        "\n",
        "inv_Sigma1 = np.linalg.inv(omega1_var)\n",
        "\n",
        "coef1_for_g1 = - 1/2 * inv_Sigma1\n",
        "coef2_for_g1 = omega1_mean.T @ inv_Sigma1\n",
        "coef3_for_g1 = - 1/2 * omega1_mean.T @ inv_Sigma1 @ omega1_mean - 1/2 * np.log(np.linalg.det(omega1_var))\n",
        "\n",
        "omega_2 = np.transpose(np.array([[160,48],[155,45],[167,55],[158,60]]))\n",
        "y_omega2 = np.array([1, 1, 1, 1])\n",
        "omega2_mean = omega_2.mean(axis=1)\n",
        "omega2_var = np.cov(omega_2, ddof=0)\n",
        "\n",
        "x_train = (np.concatenate([omega_1.T, omega_2.T]))\n",
        "y_train = np.concatenate([y_omega1, y_omega2])\n",
        "\n",
        "plt.plot(x_train[y_train==0, 0], x_train[y_train==0, 1], 'ro', x_train[y_train==1, 0], x_train[y_train==1, 1], 'bs')\n",
        "plt.grid(True)\n",
        "\n",
        "print('mu_1=', omega1_mean)\n",
        "print('mu_2=', omega2_mean)\n",
        "\n",
        "print('Sigma_1=\\n', omega1_var)\n",
        "print('Sigma_2=\\n', omega2_var)\n",
        "print('\\n')\n",
        "\n",
        "inv_Sigma2 = np.linalg.inv(omega2_var)\n",
        "\n",
        "coef1_for_g2 = - 1/2 * inv_Sigma2\n",
        "coef2_for_g2 = omega2_mean.T@inv_Sigma2\n",
        "coef3_for_g2 = - 1/2 * omega2_mean.T @ inv_Sigma2 @ omega2_mean - 1/2 * np.log(np.linalg.det(omega2_var))\n",
        "\n",
        "coef1_for_g12 = coef1_for_g1 - coef1_for_g2\n",
        "coef2_for_g12 = coef2_for_g1 - coef2_for_g2\n",
        "coef3_for_g12 = coef3_for_g1 - coef3_for_g2\n",
        "\n",
        "print('coef_1 = \\n', coef1_for_g12)\n",
        "print('coef_2 =', coef2_for_g12)\n",
        "print('coef_3 =', coef3_for_g12)\n",
        "\n",
        "test_x = np.transpose(np.array([165,65]))\n",
        "\n",
        "g12 = test_x.T @ coef1_for_g12 @ test_x + coef2_for_g12 @ test_x + coef3_for_g12\n",
        "\n",
        "print('g12(test_x) = ',g12)\n",
        "\n",
        "plt.plot(test_x[0], test_x[1], 'ks')\n",
        "plt.show()"
      ],
      "metadata": {
        "id": "fI9PuJ5-2Fhv"
      },
      "execution_count": null,
      "outputs": []
    }
  ],
  "metadata": {
    "colab": {
      "collapsed_sections": [
        "687590Qww5_m",
        "TRqVFX0ixvx1",
        "ESsnAJ3kw_Qi",
        "GTi05ojpzCH8",
        "9idJEeBH2lMu",
        "wHY3CcLb6kQO",
        "FtUlPXOLyBOk",
        "JV0enOJjyltL",
        "c4QROA9Byrbe",
        "wiImFl9ty3_d",
        "_Anj4dTD0TL-",
        "RXWA_iYy0jrf",
        "O8aZAHCl1D5I",
        "chbz36Cj1W6J",
        "ZLx2-kit1hBy",
        "2hQos94s1-Yp"
      ],
      "provenance": [],
      "include_colab_link": true
    },
    "kernelspec": {
      "display_name": "Python 3",
      "name": "python3"
    },
    "language_info": {
      "codemirror_mode": {
        "name": "ipython",
        "version": 3
      },
      "file_extension": ".py",
      "mimetype": "text/x-python",
      "name": "python",
      "nbconvert_exporter": "python",
      "pygments_lexer": "ipython3",
      "version": "undefined.undefined.undefined"
    }
  },
  "nbformat": 4,
  "nbformat_minor": 0
}